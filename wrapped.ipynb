{
 "cells": [
  {
   "cell_type": "code",
   "execution_count": 148,
   "metadata": {},
   "outputs": [],
   "source": [
    "import requests\n",
    "import spotipy\n",
    "from spotipy.oauth2 import SpotifyOAuth\n",
    "import pandas as pd\n",
    "import time\n",
    "import datetime"
   ]
  },
  {
   "cell_type": "code",
   "execution_count": 149,
   "metadata": {},
   "outputs": [],
   "source": [
    "SPOTIPY_CLIENT_ID = '",
    "SPOTIPY_CLIENT_SECRET = '",
    "SPOTIPY_REDIRECT_URI = '",
    "SCOPE = 'user-top-read'"
   ]
  },
  {
   "cell_type": "code",
   "execution_count": 150,
   "metadata": {},
   "outputs": [],
   "source": [
    "sp = spotipy.Spotify(auth_manager=SpotifyOAuth(client_id=SPOTIPY_CLIENT_ID, client_secret = SPOTIPY_CLIENT_SECRET, redirect_uri = SPOTIPY_REDIRECT_URI, scope = SCOPE))"
   ]
  },
  {
   "cell_type": "code",
   "execution_count": 151,
   "metadata": {},
   "outputs": [],
   "source": [
    "results = sp.current_user_top_tracks()"
   ]
  },
  {
   "cell_type": "code",
   "execution_count": 152,
   "metadata": {},
   "outputs": [],
   "source": [
    "top_tracks_short = sp.current_user_top_tracks(limit=10, offset=0, time_range= 'short_term')"
   ]
  },
  {
   "cell_type": "code",
   "execution_count": 153,
   "metadata": {},
   "outputs": [
    {
     "data": {
      "text/plain": [
       "{'items': [{'album': {'album_type': 'ALBUM',\n",
       "    'artists': [{'external_urls': {'spotify': 'https://open.spotify.com/artist/5c4wQaXkNDqSOTjqX4ExAu'},\n",
       "      'href': 'https://api.spotify.com/v1/artists/5c4wQaXkNDqSOTjqX4ExAu',\n",
       "      'id': '5c4wQaXkNDqSOTjqX4ExAu',\n",
       "      'name': 'Jenni Rivera',\n",
       "      'type': 'artist',\n",
       "      'uri': 'spotify:artist:5c4wQaXkNDqSOTjqX4ExAu'}],\n",
       "    'available_markets': ['AD',\n",
       "     'AE',\n",
       "     'AR',\n",
       "     'AT',\n",
       "     'AU',\n",
       "     'BE',\n",
       "     'BG',\n",
       "     'BH',\n",
       "     'BO',\n",
       "     'BR',\n",
       "     'CA',\n",
       "     'CH',\n",
       "     'CL',\n",
       "     'CO',\n",
       "     'CR',\n",
       "     'CY',\n",
       "     'CZ',\n",
       "     'DE',\n",
       "     'DK',\n",
       "     'DO',\n",
       "     'DZ',\n",
       "     'EC',\n",
       "     'EE',\n",
       "     'EG',\n",
       "     'ES',\n",
       "     'FI',\n",
       "     'FR',\n",
       "     'GB',\n",
       "     'GR',\n",
       "     'GT',\n",
       "     'HK',\n",
       "     'HN',\n",
       "     'HU',\n",
       "     'ID',\n",
       "     'IE',\n",
       "     'IL',\n",
       "     'IN',\n",
       "     'IS',\n",
       "     'IT',\n",
       "     'JO',\n",
       "     'JP',\n",
       "     'KW',\n",
       "     'LB',\n",
       "     'LI',\n",
       "     'LT',\n",
       "     'LU',\n",
       "     'LV',\n",
       "     'MA',\n",
       "     'MC',\n",
       "     'MT',\n",
       "     'MX',\n",
       "     'MY',\n",
       "     'NI',\n",
       "     'NL',\n",
       "     'NO',\n",
       "     'NZ',\n",
       "     'OM',\n",
       "     'PA',\n",
       "     'PE',\n",
       "     'PH',\n",
       "     'PL',\n",
       "     'PS',\n",
       "     'PT',\n",
       "     'PY',\n",
       "     'QA',\n",
       "     'RO',\n",
       "     'SA',\n",
       "     'SE',\n",
       "     'SG',\n",
       "     'SK',\n",
       "     'SV',\n",
       "     'TH',\n",
       "     'TN',\n",
       "     'TR',\n",
       "     'TW',\n",
       "     'US',\n",
       "     'UY',\n",
       "     'VN',\n",
       "     'ZA'],\n",
      
      ]
     },
     "execution_count": 153,
     "metadata": {},
     "output_type": "execute_result"
    }
   ],
   "source": [
    "top_tracks_short"
   ]
  },
  {
   "cell_type": "code",
   "execution_count": 154,
   "metadata": {},
   "outputs": [
    {
     "data": {
      "text/plain": [
       "dict"
      ]
     },
     "execution_count": 154,
     "metadata": {},
     "output_type": "execute_result"
    }
   ],
   "source": [
    "type(top_tracks_short)"
   ]
  },
  {
   "cell_type": "code",
   "execution_count": 155,
   "metadata": {},
   "outputs": [],
   "source": [
    "def get_track_ids(time_frame):\n",
    "    track_ids = []\n",
    "    for song in time_frame['items']:\n",
    "        track_ids.append(song['id'])\n",
    "    return track_ids"
   ]
  },
  {
   "cell_type": "code",
   "execution_count": 156,
   "metadata": {},
   "outputs": [],
   "source": [
    "track_ids = get_track_ids(top_tracks_short)"
   ]
  },
  {
   "cell_type": "code",
   "execution_count": 157,
   "metadata": {},
   "outputs": [
    {
     "data": {
      "text/plain": [
       "['4pIiKrGXCgTZOAFGJjCEvL',\n",
       " '7LSpFCvRZZot2AlmkUzy9k',\n",
       " '4wBaBLQcSSzjdcEC93YxPG',\n",
       " '6a5jHgwqYMk9wlYJYfs3c9',\n",
       " '4mwiRPRAUSSFD6lJ86m98B',\n",
       " '5aIVCx5tnk0ntmdiinnYvw',\n",
       " '7CIvyuVoWcY0LgUYa1aR5J',\n",
       " '7qLr3HMApUbyDkUvgIvHnB',\n",
       " '6fB2dO7TQ7eBw4nS1IMJgU',\n",
       " '2L5WJA8XcCnczIVhujMNcZ']"
      ]
     },
     "execution_count": 157,
     "metadata": {},
     "output_type": "execute_result"
    }
   ],
   "source": [
    "track_ids"
   ]
  },
  {
   "cell_type": "code",
   "execution_count": 158,
   "metadata": {},
   "outputs": [],
   "source": [
    "track_id = track_ids[0]"
   ]
  },
  {
   "cell_type": "code",
   "execution_count": 159,
   "metadata": {},
   "outputs": [],
   "source": [
    "def get_track_features(id):\n",
    "    meta = sp.track(id)\n",
    "    # meta\n",
    "    name = meta['name']\n",
    "    album = meta['album']['name']\n",
    "    artist = meta['album']['artists'][0]['name']\n",
    "    spotify_url = meta['external_urls']['spotify']\n",
    "    album_cover = meta['album']['images'][0]['url']\n",
    "    track_info = [name, album, artist, spotify_url, album_cover]\n",
    "    return track_info\n",
    "    "
   ]
  },
  {
   "cell_type": "code",
   "execution_count": 160,
   "metadata": {},
   "outputs": [
    {
     "data": {
      "text/plain": [
       "['Ya Lo Sé',\n",
       " 'La Gran Señora',\n",
       " 'Jenni Rivera',\n",
       " 'https://open.spotify.com/track/4pIiKrGXCgTZOAFGJjCEvL',\n",
       " 'https://i.scdn.co/image/ab67616d0000b273e0a4e03df53de72f1aa4df62']"
      ]
     },
     "execution_count": 160,
     "metadata": {},
     "output_type": "execute_result"
    }
   ],
   "source": [
    "get_track_features(track_id)"
   ]
  },
  {
   "cell_type": "code",
   "execution_count": 161,
   "metadata": {},
   "outputs": [],
   "source": [
    "#loop over track ids to get track info\n",
    "tracks = []\n",
    "for i in range(len(track_ids)):\n",
    "    time.sleep(.5)\n",
    "    track = get_track_features(track_ids[i])\n",
    "    tracks.append(track)"
   ]
  },
  {
   "cell_type": "code",
   "execution_count": 162,
   "metadata": {},
   "outputs": [
    {
     "data": {
      "text/plain": [
       "[['Ya Lo Sé',\n",
       "  'La Gran Señora',\n",
       "  'Jenni Rivera',\n",
       "  'https://open.spotify.com/track/4pIiKrGXCgTZOAFGJjCEvL',\n",
       "  'https://i.scdn.co/image/ab67616d0000b273e0a4e03df53de72f1aa4df62'],\n",
       " ['SIRENS',\n",
       "  'UTOPIA',\n",
       "  'Travis Scott',\n",
       "  'https://open.spotify.com/track/7LSpFCvRZZot2AlmkUzy9k',\n",
       "  'https://i.scdn.co/image/ab67616d0000b273881d8d8378cd01099babcd44'],\n",
       " ['Uzi Work',\n",
       "  'Snot or Not',\n",
       "  'Homixide Gang',\n",
       "  'https://open.spotify.com/track/4wBaBLQcSSzjdcEC93YxPG',\n",
       "  'https://i.scdn.co/image/ab67616d0000b273616033c26de5de987fc59434'],\n",
       " ['Can We Talk',\n",
       "  'The Best of Tevin Campbell',\n",
       "  'Tevin Campbell',\n",
       "  'https://open.spotify.com/track/6a5jHgwqYMk9wlYJYfs3c9',\n",
       "  'https://i.scdn.co/image/ab67616d0000b2739af0046f069d64b650914ed8'],\n",
       " ['Stay Down',\n",
       "  'Sonder Son',\n",
       "  'Brent Faiyaz',\n",
       "  'https://open.spotify.com/track/4mwiRPRAUSSFD6lJ86m98B',\n",
       "  'https://i.scdn.co/image/ab67616d0000b27358f247ab95be420b4bbbceea'],\n",
       " ['Water',\n",
       "  'Water',\n",
       "  'Tyla',\n",
       "  'https://open.spotify.com/track/5aIVCx5tnk0ntmdiinnYvw',\n",
       "  'https://i.scdn.co/image/ab67616d0000b273d20231861e86a6f74ef2393e'],\n",
       " ['SOLO STEPPIN CRETE BOY',\n",
       "  'Slide',\n",
       "  'Lil Yachty',\n",
       "  'https://open.spotify.com/track/7CIvyuVoWcY0LgUYa1aR5J',\n",
       "  'https://i.scdn.co/image/ab67616d0000b273d2d315b5ba706ec3f5b5f2ba'],\n",
       " ['Oh U Went (feat. Drake)',\n",
       "  'BUSINESS IS BUSINESS',\n",
       "  'Young Thug',\n",
       "  'https://open.spotify.com/track/7qLr3HMApUbyDkUvgIvHnB',\n",
       "  'https://i.scdn.co/image/ab67616d0000b27337895eee206eabf2682e3064'],\n",
       " ['8th Wonder of the World',\n",
       "  'Bin Reaper 3: Old Testament',\n",
       "  'BabyTron',\n",
       "  'https://open.spotify.com/track/6fB2dO7TQ7eBw4nS1IMJgU',\n",
       "  'https://i.scdn.co/image/ab67616d0000b273cb0d1b03b789499d1ef77d53'],\n",
       " ['Air On A G String',\n",
       "  'The Most Relaxing Classical Music In The Universe',\n",
       "  'Various Artists',\n",
       "  'https://open.spotify.com/track/2L5WJA8XcCnczIVhujMNcZ',\n",
       "  'https://i.scdn.co/image/ab67616d0000b27390b7737da9a7e3ff1531ae6f']]"
      ]
     },
     "execution_count": 162,
     "metadata": {},
     "output_type": "execute_result"
    }
   ],
   "source": [
    "tracks"
   ]
  },
  {
   "cell_type": "code",
   "execution_count": 163,
   "metadata": {},
   "outputs": [
    {
     "data": {
      "text/html": [
       "<div>\n",
       "<style scoped>\n",
       "    .dataframe tbody tr th:only-of-type {\n",
       "        vertical-align: middle;\n",
       "    }\n",
       "\n",
       "    .dataframe tbody tr th {\n",
       "        vertical-align: top;\n",
       "    }\n",
       "\n",
       "    .dataframe thead th {\n",
       "        text-align: right;\n",
       "    }\n",
       "</style>\n",
       "<table border=\"1\" class=\"dataframe\">\n",
       "  <thead>\n",
       "    <tr style=\"text-align: right;\">\n",
       "      <th></th>\n",
       "      <th>name</th>\n",
       "      <th>album</th>\n",
       "      <th>artist</th>\n",
       "      <th>spotify_url</th>\n",
       "      <th>album_cover</th>\n",
       "    </tr>\n",
       "  </thead>\n",
       "  <tbody>\n",
       "    <tr>\n",
       "      <th>0</th>\n",
       "      <td>Ya Lo Sé</td>\n",
       "      <td>La Gran Señora</td>\n",
       "      <td>Jenni Rivera</td>\n",
       "      <td>https://open.spotify.com/track/4pIiKrGXCgTZOAF...</td>\n",
       "      <td>https://i.scdn.co/image/ab67616d0000b273e0a4e0...</td>\n",
       "    </tr>\n",
       "    <tr>\n",
       "      <th>1</th>\n",
       "      <td>SIRENS</td>\n",
       "      <td>UTOPIA</td>\n",
       "      <td>Travis Scott</td>\n",
       "      <td>https://open.spotify.com/track/7LSpFCvRZZot2Al...</td>\n",
       "      <td>https://i.scdn.co/image/ab67616d0000b273881d8d...</td>\n",
       "    </tr>\n",
       "    <tr>\n",
       "      <th>2</th>\n",
       "      <td>Uzi Work</td>\n",
       "      <td>Snot or Not</td>\n",
       "      <td>Homixide Gang</td>\n",
       "      <td>https://open.spotify.com/track/4wBaBLQcSSzjdcE...</td>\n",
       "      <td>https://i.scdn.co/image/ab67616d0000b273616033...</td>\n",
       "    </tr>\n",
       "    <tr>\n",
       "      <th>3</th>\n",
       "      <td>Can We Talk</td>\n",
       "      <td>The Best of Tevin Campbell</td>\n",
       "      <td>Tevin Campbell</td>\n",
       "      <td>https://open.spotify.com/track/6a5jHgwqYMk9wlY...</td>\n",
       "      <td>https://i.scdn.co/image/ab67616d0000b2739af004...</td>\n",
       "    </tr>\n",
       "    <tr>\n",
       "      <th>4</th>\n",
       "      <td>Stay Down</td>\n",
       "      <td>Sonder Son</td>\n",
       "      <td>Brent Faiyaz</td>\n",
       "      <td>https://open.spotify.com/track/4mwiRPRAUSSFD6l...</td>\n",
       "      <td>https://i.scdn.co/image/ab67616d0000b27358f247...</td>\n",
       "    </tr>\n",
       "  </tbody>\n",
       "</table>\n",
       "</div>"
      ],
      "text/plain": [
       "          name                       album          artist  \\\n",
       "0     Ya Lo Sé              La Gran Señora    Jenni Rivera   \n",
       "1       SIRENS                      UTOPIA    Travis Scott   \n",
       "2     Uzi Work                 Snot or Not   Homixide Gang   \n",
       "3  Can We Talk  The Best of Tevin Campbell  Tevin Campbell   \n",
       "4    Stay Down                  Sonder Son    Brent Faiyaz   \n",
       "\n",
       "                                         spotify_url  \\\n",
       "0  https://open.spotify.com/track/4pIiKrGXCgTZOAF...   \n",
       "1  https://open.spotify.com/track/7LSpFCvRZZot2Al...   \n",
       "2  https://open.spotify.com/track/4wBaBLQcSSzjdcE...   \n",
       "3  https://open.spotify.com/track/6a5jHgwqYMk9wlY...   \n",
       "4  https://open.spotify.com/track/4mwiRPRAUSSFD6l...   \n",
       "\n",
       "                                         album_cover  \n",
       "0  https://i.scdn.co/image/ab67616d0000b273e0a4e0...  \n",
       "1  https://i.scdn.co/image/ab67616d0000b273881d8d...  \n",
       "2  https://i.scdn.co/image/ab67616d0000b273616033...  \n",
       "3  https://i.scdn.co/image/ab67616d0000b2739af004...  \n",
       "4  https://i.scdn.co/image/ab67616d0000b27358f247...  "
      ]
     },
     "execution_count": 163,
     "metadata": {},
     "output_type": "execute_result"
    }
   ],
   "source": [
    "# create dataset\n",
    "df = pd.DataFrame(tracks, columns = ['name', 'album', 'artist', 'spotify_url', 'album_cover'])\n",
    "df.head(5)"
   ]
  },
  {
   "cell_type": "code",
   "execution_count": 164,
   "metadata": {},
   "outputs": [],
   "source": [
    "import gspread"
   ]
  },
  {
   "cell_type": "code",
   "execution_count": 165,
   "metadata": {},
   "outputs": [],
   "source": [
    "gc = gspread.service_account(filename='wrapped-to-go-47304acd7d80.json')"
   ]
  },
  {
   "cell_type": "code",
   "execution_count": 166,
   "metadata": {},
   "outputs": [],
   "source": [
    "sh = gc.open(\"Wrapped To Go\")"
   ]
  },
  {
   "cell_type": "code",
   "execution_count": 167,
   "metadata": {},
   "outputs": [],
   "source": [
    "worksheet = sh.worksheet('short_term')"
   ]
  },
  {
   "cell_type": "code",
   "execution_count": 168,
   "metadata": {},
   "outputs": [],
   "source": [
    "#insert data\n",
    "def insert_into_gsheet(track_ids):\n",
    "    #loop over track ids to get track info\n",
    "    tracks = []\n",
    "    for i in range(len(track_ids)):\n",
    "        time.sleep(.5)\n",
    "        track = get_track_features(track_ids[i])\n",
    "        tracks.append(track)\n",
    "    # create dataset\n",
    "    df = pd.DataFrame(tracks, columns = ['name', 'album', 'artist', 'spotify_url', 'album_cover'])\n",
    "    #insert into google sheet\n",
    "    gc = gspread.service_account(filename='wrapped-to-go-47304acd7d80.json')\n",
    "    sh = gc.open(\"Wrapped To Go\")\n",
    "    worksheet = sh.worksheet(f'{time_period}')\n",
    "    worksheet.update([df.columns.values.tolist()] + df.values.tolist())\n",
    "    print('done')"
   ]
  },
  {
   "cell_type": "code",
   "execution_count": 169,
   "metadata": {},
   "outputs": [
    {
     "name": "stderr",
     "output_type": "stream",
     "text": [
      "/Users/cristianvalencia/Library/Python/3.8/lib/python/site-packages/gspread/worksheet.py:1069: UserWarning: [Deprecated][in version 6.0.0]: method signature will change to: 'Worksheet.update(value = [[]], range_name=)' arguments 'range_name' and 'values' will swap, values will be mandatory of type: 'list(list(...))'\n",
      "  warnings.warn(\n"
     ]
    },
    {
     "name": "stdout",
     "output_type": "stream",
     "text": [
      "done\n",
      "done\n",
      "done\n"
     ]
    }
   ],
   "source": [
    "time_ranges = ['short_term', 'medium_term', 'long_term']\n",
    "for time_period in time_ranges:\n",
    "    top_tracks = sp.current_user_top_tracks(limit=10, offset=0, time_range= time_period)\n",
    "    track_ids = get_track_ids(top_tracks)\n",
    "    insert_into_gsheet(track_ids)\n",
    "    "
   ]
  }
 ],
 "metadata": {
  "kernelspec": {
   "display_name": "Python 3",
   "language": "python",
   "name": "python3"
  },
  "language_info": {
   "codemirror_mode": {
    "name": "ipython",
    "version": 3
   },
   "file_extension": ".py",
   "mimetype": "text/x-python",
   "name": "python",
   "nbconvert_exporter": "python",
   "pygments_lexer": "ipython3",
   "version": "3.8.9"
  },
  "orig_nbformat": 4
 },
 "nbformat": 4,
 "nbformat_minor": 2
}
